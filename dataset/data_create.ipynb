{
 "cells": [
  {
   "cell_type": "code",
   "execution_count": 1,
   "metadata": {},
   "outputs": [
    {
     "name": "stdout",
     "output_type": "stream",
     "text": [
      "118\n"
     ]
    }
   ],
   "source": [
    "import numpy as np\n",
    "import pandas as pd\n",
    "from random import *\n",
    "\n",
    "types = ['6633', '6024', '1062', '6310', '6128', '6287', '1075', '1076',\n",
    "       '6756', '6757', '1101', '6494', '6662', '6705', '6549', '6552',\n",
    "       '6527', '6531', '1099', '1104', '6754', '6575', '6706', '6589',\n",
    "       '6232', '6752', '6574', '6053', 'P828', '6692', '6721', '6663',\n",
    "       '6734', '6681', '6682', '6561', '6750', '6728', '6648', '6584',\n",
    "       '6102', '6630', '6406', '6407', '1106', '1107', '6542', '6723',\n",
    "       '6356', '6700', '6572', '6573', '6218', '1017', 'P130', '6763',\n",
    "       '6650', '6653', '6454', '6452', '6696', '8L39', '8L72', '6698',\n",
    "       '6433', '6629', '6760', '6380', 'P099', '6585', '6581', '6447',\n",
    "       '6689', '6761', '6040', '6515', '6217', '6747', '6769', '6738',\n",
    "       '6751', '6112', '6753', '6301', '6271', '6432', '6675', '6470',\n",
    "       '6647', '1018', '6238', '6324', '6733', '6206', 'P163', '6719',\n",
    "       '6205', '6660', '6453', '6655', '6646', '6244', '6695', '6539',\n",
    "       '6736', '6683', '6634', '6475', 'P147', '6642', '6684', '6477',\n",
    "       '6608', '6708', 'P837', 'P820', 'P835', '8K52']\n",
    "types_num = 118 #type의 갯수\n",
    "orders_num = 285 #order의 갯수\n",
    "min_time = 2 #process_time's min\n",
    "max_time = 50#process_time's max\n",
    "max_due_date = 428#최대 납기일\n",
    "\n",
    "print(len(types))"
   ]
  },
  {
   "cell_type": "code",
   "execution_count": 2,
   "metadata": {},
   "outputs": [
    {
     "data": {
      "text/html": [
       "<div>\n",
       "<style scoped>\n",
       "    .dataframe tbody tr th:only-of-type {\n",
       "        vertical-align: middle;\n",
       "    }\n",
       "\n",
       "    .dataframe tbody tr th {\n",
       "        vertical-align: top;\n",
       "    }\n",
       "\n",
       "    .dataframe thead th {\n",
       "        text-align: right;\n",
       "    }\n",
       "</style>\n",
       "<table border=\"1\" class=\"dataframe\">\n",
       "  <thead>\n",
       "    <tr style=\"text-align: right;\">\n",
       "      <th></th>\n",
       "      <th>type</th>\n",
       "      <th>process_time</th>\n",
       "      <th>due_date</th>\n",
       "    </tr>\n",
       "  </thead>\n",
       "  <tbody>\n",
       "  </tbody>\n",
       "</table>\n",
       "</div>"
      ],
      "text/plain": [
       "Empty DataFrame\n",
       "Columns: [type, process_time, due_date]\n",
       "Index: []"
      ]
     },
     "execution_count": 2,
     "metadata": {},
     "output_type": "execute_result"
    }
   ],
   "source": [
    "df = pd.DataFrame(columns=['type','process_time','due_date'])\n",
    "df"
   ]
  },
  {
   "cell_type": "code",
   "execution_count": 3,
   "metadata": {},
   "outputs": [],
   "source": [
    "for j in range(2000):    \n",
    "    df = pd.DataFrame(columns=['type','process_time','due_date'])\n",
    "    for i in range(orders_num):\n",
    "        temp_type = types[randint(0,117)]\n",
    "        temp_process_time = randint(min_time, max_time)\n",
    "        temp_due_date = randint(temp_process_time, max_due_date)\n",
    "        new_data = {'type':temp_type, 'process_time':temp_process_time, 'due_date':temp_due_date}\n",
    "        df = df.append(new_data, ignore_index=True)\n",
    "    \n",
    "    df = df.sort_values(by=['due_date'], axis=0)\n",
    "    \n",
    "    #경로지정필요\n",
    "    df.to_csv(\"C:\\\\Users\\\\wg999\\\\OneDrive\\\\바탕 화면\\\\업무\\\\프로젝트\\\\APS_beta\\\\dataset\\\\\"+ str(j) + \".csv\", header=True, index=False)\n"
   ]
  }
 ],
 "metadata": {
  "kernelspec": {
   "display_name": "Python 3",
   "language": "python",
   "name": "python3"
  },
  "language_info": {
   "codemirror_mode": {
    "name": "ipython",
    "version": 3
   },
   "file_extension": ".py",
   "mimetype": "text/x-python",
   "name": "python",
   "nbconvert_exporter": "python",
   "pygments_lexer": "ipython3",
   "version": "3.8.5"
  }
 },
 "nbformat": 4,
 "nbformat_minor": 4
}
